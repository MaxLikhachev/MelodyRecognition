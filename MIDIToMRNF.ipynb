{
  "nbformat": 4,
  "nbformat_minor": 0,
  "metadata": {
    "colab": {
      "name": "MIDIToMRNF.ipynb",
      "provenance": [],
      "collapsed_sections": [],
      "mount_file_id": "1Hr0RO3fJ9a1VIcpCpH0ePEXbZbYfLI_Q",
      "authorship_tag": "ABX9TyMDfJsxXXWzZ2h0swltMbup",
      "include_colab_link": true
    },
    "kernelspec": {
      "name": "python3",
      "display_name": "Python 3"
    },
    "language_info": {
      "name": "python"
    }
  },
  "cells": [
    {
      "cell_type": "markdown",
      "metadata": {
        "id": "view-in-github",
        "colab_type": "text"
      },
      "source": [
        "<a href=\"https://colab.research.google.com/github/MaxLikhachev/MelodyRecognition/blob/main/MIDIToMRNF.ipynb\" target=\"_parent\"><img src=\"https://colab.research.google.com/assets/colab-badge.svg\" alt=\"Open In Colab\"/></a>"
      ]
    },
    {
      "cell_type": "code",
      "metadata": {
        "colab": {
          "base_uri": "https://localhost:8080/"
        },
        "id": "bimh5ap92h7U",
        "outputId": "f87b5f97-3db9-4987-e0f7-da4455d08e9b"
      },
      "source": [
        "!pip install -U mido==1.2.9\n",
        "!pip install -U jsonpickle"
      ],
      "execution_count": 1,
      "outputs": [
        {
          "output_type": "stream",
          "text": [
            "Requirement already up-to-date: mido==1.2.9 in /usr/local/lib/python3.7/dist-packages (1.2.9)\n",
            "Requirement already up-to-date: jsonpickle in /usr/local/lib/python3.7/dist-packages (2.0.0)\n",
            "Requirement already satisfied, skipping upgrade: importlib-metadata; python_version < \"3.8\" in /usr/local/lib/python3.7/dist-packages (from jsonpickle) (3.10.0)\n",
            "Requirement already satisfied, skipping upgrade: typing-extensions>=3.6.4; python_version < \"3.8\" in /usr/local/lib/python3.7/dist-packages (from importlib-metadata; python_version < \"3.8\"->jsonpickle) (3.7.4.3)\n",
            "Requirement already satisfied, skipping upgrade: zipp>=0.5 in /usr/local/lib/python3.7/dist-packages (from importlib-metadata; python_version < \"3.8\"->jsonpickle) (3.4.1)\n"
          ],
          "name": "stdout"
        }
      ]
    },
    {
      "cell_type": "code",
      "metadata": {
        "id": "kH89JYwlRWkb"
      },
      "source": [
        "import mido, math, json, jsonpickle"
      ],
      "execution_count": 2,
      "outputs": []
    },
    {
      "cell_type": "code",
      "metadata": {
        "colab": {
          "base_uri": "https://localhost:8080/"
        },
        "id": "299Z8IDFVWiQ",
        "outputId": "fbf1cbab-7655-41da-bdd3-74ffca1715ec"
      },
      "source": [
        "class Note:\n",
        "  def __init__(self, note = 0, time = 0.0, ticks_per_beat = 1):\n",
        "    self.note, self.time = note, self.__init_time(ticks_per_beat, time)\n",
        "\n",
        "  def __init_time(self, ticks_per_beat = 1, time = 0.0):\n",
        "    return time / ticks_per_beat\n",
        "\n",
        "  def get_tone(self):\n",
        "    return self.note % 12\n",
        "\n",
        "  def get_octave(self):\n",
        "    return self.note // 12\n",
        "\n",
        "  def get_note_title(self):\n",
        "    return ('C','C#','D','D#','E','F','F#','G','G#','A','A#','B')[self.get_tone()]\n",
        "\n",
        "  def get_notation(self):\n",
        "    return self.get_note_title(), self.get_octave(), self.get_duration()\n",
        "\n",
        "  def get_duration(self):\n",
        "    duration_notation, durations, temp = [], {32:'x8 whole', 16:'x4 whole', 8:'double whole', 4:'whole', 2:'half', 1:'quarter', 0.5:'8th', 0.25:'16th', 0.125:'32th', 0.0625:'64th'}, self.time\n",
        "    for key in durations.keys():\n",
        "      if temp // key == 1:\n",
        "        duration_notation.append(durations.get(key))\n",
        "        temp -= key\n",
        "    return ' + '.join(duration_notation)\n",
        "\n",
        "  def __str__(self):\n",
        "    return 'note:' + self.note.__str__() + ' time:' + self.time.__str__() + ' notation:' + self.get_notation().__str__()\n",
        "\n",
        "\n",
        "print(Note(note=50,time=1))"
      ],
      "execution_count": 3,
      "outputs": [
        {
          "output_type": "stream",
          "text": [
            "note:50 time:1.0 notation:('D', 4, 'quarter')\n"
          ],
          "name": "stdout"
        }
      ]
    },
    {
      "cell_type": "code",
      "metadata": {
        "id": "jC6d8JYPAv21"
      },
      "source": [
        "class NoteMRNF(Note):\n",
        "  def __init__(self, note = Note(), first_note = Note()):\n",
        "    self.note, self.time = self.__init_mrnf_note(note, first_note), self.__init_mrnf_time(note, first_note)\n",
        "\n",
        "  def __init_mrnf_note(self, note, first_note):\n",
        "    return note.note - first_note.note\n",
        "\n",
        "  def __init_mrnf_time(self, note, first_note):\n",
        "    return note.time / first_note.time"
      ],
      "execution_count": 4,
      "outputs": []
    },
    {
      "cell_type": "code",
      "metadata": {
        "colab": {
          "base_uri": "https://localhost:8080/"
        },
        "id": "NkA6VrNrV0Ct",
        "outputId": "a722a3ae-be69-4e97-b615-1a08f73fa09f"
      },
      "source": [
        "class Melody(object):\n",
        "  def __init__(self, tempo = 0, title = '', author = '', notes = []):\n",
        "    self.tempo, self.title, self.author, self.notes, = tempo, title, author, notes,\n",
        "\n",
        "  def __str__(self):\n",
        "    notes_str = '\\n'.join(note.__str__() for note in self.notes)\n",
        "    return 'tempo:' + self.tempo.__str__() + '(' + str(int(mido.tempo2bpm(self.tempo))) + ' bpm) title:' + self.title + ' author:' +  self.author + '\\n' + notes_str\n",
        "\n",
        "\n",
        "print(Melody(500000, 'Title', 'Author', []))"
      ],
      "execution_count": 5,
      "outputs": [
        {
          "output_type": "stream",
          "text": [
            "tempo:500000(120 bpm) title:Title author:Author\n",
            "\n"
          ],
          "name": "stdout"
        }
      ]
    },
    {
      "cell_type": "code",
      "metadata": {
        "id": "31aX4CkoFifO"
      },
      "source": [
        "class MidiFile:\n",
        "  def __init__(self, filename = ''):\n",
        "    self.filename, self.original_melody, self.mrnf_melody = filename, Melody(), Melody()\n",
        "    self.original_melody = self.__mid2melody()\n",
        "    self.mrnf_melody = self.__melody2mnrf()\n",
        "  \n",
        "  def get_mid(self, filename):\n",
        "    mid, msgs = mido.MidiFile(filename, clip=True), []\n",
        "    for track in mid.tracks:\n",
        "      for msg in track:\n",
        "        msgs.append(msg)\n",
        "    return msgs\n",
        "\n",
        "  def __mid2melody(self):\n",
        "    mid, melody = mido.MidiFile(self.filename, clip=True), Melody()\n",
        "    for track in mid.tracks:\n",
        "      for msg in track:\n",
        "        if msg.type == 'set_tempo':\n",
        "          melody.tempo = msg.tempo\n",
        "        elif msg.type == 'track_name':\n",
        "          if melody.title == '':            \n",
        "            melody.title = msg.name\n",
        "        elif msg.type == 'copyright':\n",
        "          melody.author = msg.text\n",
        "        elif msg.type == 'note_off':\n",
        "          note, time = msg.note, msg.time\n",
        "          if not time == 0:\n",
        "            melody.notes.append(Note(note=note, time=time, ticks_per_beat=mid.ticks_per_beat))\n",
        "    return melody\n",
        "\n",
        "  def __melody2mnrf(self):\n",
        "    return Melody(tempo = self.original_melody.tempo, title = self.original_melody.title, author = self.original_melody.author, notes = [NoteMRNF(note, self.original_melody.notes[0]) for note in self.original_melody.notes]) \n",
        "  \n",
        "\n",
        "mid = MidiFile(filename='/content/sample.mid')\n",
        "\n"
      ],
      "execution_count": 6,
      "outputs": []
    },
    {
      "cell_type": "code",
      "metadata": {
        "colab": {
          "base_uri": "https://localhost:8080/"
        },
        "id": "Fl1OqlmdNfO3",
        "outputId": "d7481611-5a0c-4939-930b-8f5b898e3580"
      },
      "source": [
        "print('ORIGINAL_MELODY:') \n",
        "print(mid.original_melody) "
      ],
      "execution_count": 7,
      "outputs": [
        {
          "output_type": "stream",
          "text": [
            "ORIGINAL_MELODY:\n",
            "tempo:571428(105 bpm) title:Distortion Guitar author:Woulfan\n",
            "note:40 time:0.5 notation:('E', 3, '8th')\n",
            "note:47 time:0.5 notation:('B', 3, '8th')\n",
            "note:54 time:0.5 notation:('F#', 4, '8th')\n",
            "note:55 time:2.5 notation:('G', 4, 'half + 8th')\n",
            "note:47 time:0.5 notation:('B', 3, '8th')\n",
            "note:52 time:0.5 notation:('E', 4, '8th')\n",
            "note:57 time:0.5 notation:('A', 4, '8th')\n",
            "note:55 time:2.5 notation:('G', 4, 'half + 8th')\n",
            "note:43 time:0.5 notation:('G', 3, '8th')\n",
            "note:50 time:0.5 notation:('D', 4, '8th')\n",
            "note:59 time:0.5 notation:('B', 4, '8th')\n",
            "note:57 time:1.5 notation:('A', 4, 'quarter + 8th')\n",
            "note:54 time:0.5 notation:('F#', 4, '8th')\n",
            "note:52 time:0.5 notation:('E', 4, '8th')\n",
            "note:54 time:4.0 notation:('F#', 4, 'whole')\n",
            "note:40 time:0.5 notation:('E', 3, '8th')\n",
            "note:47 time:0.5 notation:('B', 3, '8th')\n",
            "note:54 time:0.5 notation:('F#', 4, '8th')\n",
            "note:55 time:2.5 notation:('G', 4, 'half + 8th')\n",
            "note:47 time:0.5 notation:('B', 3, '8th')\n",
            "note:52 time:0.5 notation:('E', 4, '8th')\n",
            "note:57 time:0.5 notation:('A', 4, '8th')\n",
            "note:55 time:2.5 notation:('G', 4, 'half + 8th')\n",
            "note:43 time:0.5 notation:('G', 3, '8th')\n",
            "note:50 time:0.5 notation:('D', 4, '8th')\n",
            "note:54 time:0.5 notation:('F#', 4, '8th')\n",
            "note:55 time:1.5 notation:('G', 4, 'quarter + 8th')\n",
            "note:54 time:0.5 notation:('F#', 4, '8th')\n",
            "note:50 time:0.5 notation:('D', 4, '8th')\n",
            "note:52 time:4.0 notation:('E', 4, 'whole')\n"
          ],
          "name": "stdout"
        }
      ]
    },
    {
      "cell_type": "code",
      "metadata": {
        "colab": {
          "base_uri": "https://localhost:8080/"
        },
        "id": "1GNBWNLuNf-Q",
        "outputId": "a248a907-9f9a-4e85-e3a2-24f5482b160c"
      },
      "source": [
        "print('MNRF_MELODY:') \n",
        "print(mid.mrnf_melody) "
      ],
      "execution_count": 8,
      "outputs": [
        {
          "output_type": "stream",
          "text": [
            "MNRF_MELODY:\n",
            "tempo:571428(105 bpm) title:Distortion Guitar author:Woulfan\n",
            "note:0 time:1.0 notation:('C', 0, 'quarter')\n",
            "note:7 time:1.0 notation:('G', 0, 'quarter')\n",
            "note:14 time:1.0 notation:('D', 1, 'quarter')\n",
            "note:15 time:5.0 notation:('D#', 1, 'whole + quarter')\n",
            "note:7 time:1.0 notation:('G', 0, 'quarter')\n",
            "note:12 time:1.0 notation:('C', 1, 'quarter')\n",
            "note:17 time:1.0 notation:('F', 1, 'quarter')\n",
            "note:15 time:5.0 notation:('D#', 1, 'whole + quarter')\n",
            "note:3 time:1.0 notation:('D#', 0, 'quarter')\n",
            "note:10 time:1.0 notation:('A#', 0, 'quarter')\n",
            "note:19 time:1.0 notation:('G', 1, 'quarter')\n",
            "note:17 time:3.0 notation:('F', 1, 'half + quarter')\n",
            "note:14 time:1.0 notation:('D', 1, 'quarter')\n",
            "note:12 time:1.0 notation:('C', 1, 'quarter')\n",
            "note:14 time:8.0 notation:('D', 1, 'double whole')\n",
            "note:0 time:1.0 notation:('C', 0, 'quarter')\n",
            "note:7 time:1.0 notation:('G', 0, 'quarter')\n",
            "note:14 time:1.0 notation:('D', 1, 'quarter')\n",
            "note:15 time:5.0 notation:('D#', 1, 'whole + quarter')\n",
            "note:7 time:1.0 notation:('G', 0, 'quarter')\n",
            "note:12 time:1.0 notation:('C', 1, 'quarter')\n",
            "note:17 time:1.0 notation:('F', 1, 'quarter')\n",
            "note:15 time:5.0 notation:('D#', 1, 'whole + quarter')\n",
            "note:3 time:1.0 notation:('D#', 0, 'quarter')\n",
            "note:10 time:1.0 notation:('A#', 0, 'quarter')\n",
            "note:14 time:1.0 notation:('D', 1, 'quarter')\n",
            "note:15 time:3.0 notation:('D#', 1, 'half + quarter')\n",
            "note:14 time:1.0 notation:('D', 1, 'quarter')\n",
            "note:10 time:1.0 notation:('A#', 0, 'quarter')\n",
            "note:12 time:8.0 notation:('C', 1, 'double whole')\n"
          ],
          "name": "stdout"
        }
      ]
    },
    {
      "cell_type": "code",
      "metadata": {
        "colab": {
          "base_uri": "https://localhost:8080/"
        },
        "id": "VC8lY7tx6Osv",
        "outputId": "ca984709-59ec-496f-e44d-cfc8747ee724"
      },
      "source": [
        "with open('data.json', 'w') as outfile:\n",
        "    json.dump(jsonpickle.encode(mid.mrnf_melody), outfile)\n",
        "\n",
        "print(jsonpickle.encode(mid.mrnf_melody))"
      ],
      "execution_count": 9,
      "outputs": [
        {
          "output_type": "stream",
          "text": [
            "{\"py/object\": \"__main__.Melody\", \"tempo\": 571428, \"title\": \"Distortion Guitar\", \"author\": \"Woulfan\", \"notes\": [{\"py/object\": \"__main__.NoteMRNF\", \"note\": 0, \"time\": 1.0}, {\"py/object\": \"__main__.NoteMRNF\", \"note\": 7, \"time\": 1.0}, {\"py/object\": \"__main__.NoteMRNF\", \"note\": 14, \"time\": 1.0}, {\"py/object\": \"__main__.NoteMRNF\", \"note\": 15, \"time\": 5.0}, {\"py/object\": \"__main__.NoteMRNF\", \"note\": 7, \"time\": 1.0}, {\"py/object\": \"__main__.NoteMRNF\", \"note\": 12, \"time\": 1.0}, {\"py/object\": \"__main__.NoteMRNF\", \"note\": 17, \"time\": 1.0}, {\"py/object\": \"__main__.NoteMRNF\", \"note\": 15, \"time\": 5.0}, {\"py/object\": \"__main__.NoteMRNF\", \"note\": 3, \"time\": 1.0}, {\"py/object\": \"__main__.NoteMRNF\", \"note\": 10, \"time\": 1.0}, {\"py/object\": \"__main__.NoteMRNF\", \"note\": 19, \"time\": 1.0}, {\"py/object\": \"__main__.NoteMRNF\", \"note\": 17, \"time\": 3.0}, {\"py/object\": \"__main__.NoteMRNF\", \"note\": 14, \"time\": 1.0}, {\"py/object\": \"__main__.NoteMRNF\", \"note\": 12, \"time\": 1.0}, {\"py/object\": \"__main__.NoteMRNF\", \"note\": 14, \"time\": 8.0}, {\"py/object\": \"__main__.NoteMRNF\", \"note\": 0, \"time\": 1.0}, {\"py/object\": \"__main__.NoteMRNF\", \"note\": 7, \"time\": 1.0}, {\"py/object\": \"__main__.NoteMRNF\", \"note\": 14, \"time\": 1.0}, {\"py/object\": \"__main__.NoteMRNF\", \"note\": 15, \"time\": 5.0}, {\"py/object\": \"__main__.NoteMRNF\", \"note\": 7, \"time\": 1.0}, {\"py/object\": \"__main__.NoteMRNF\", \"note\": 12, \"time\": 1.0}, {\"py/object\": \"__main__.NoteMRNF\", \"note\": 17, \"time\": 1.0}, {\"py/object\": \"__main__.NoteMRNF\", \"note\": 15, \"time\": 5.0}, {\"py/object\": \"__main__.NoteMRNF\", \"note\": 3, \"time\": 1.0}, {\"py/object\": \"__main__.NoteMRNF\", \"note\": 10, \"time\": 1.0}, {\"py/object\": \"__main__.NoteMRNF\", \"note\": 14, \"time\": 1.0}, {\"py/object\": \"__main__.NoteMRNF\", \"note\": 15, \"time\": 3.0}, {\"py/object\": \"__main__.NoteMRNF\", \"note\": 14, \"time\": 1.0}, {\"py/object\": \"__main__.NoteMRNF\", \"note\": 10, \"time\": 1.0}, {\"py/object\": \"__main__.NoteMRNF\", \"note\": 12, \"time\": 8.0}]}\n"
          ],
          "name": "stdout"
        }
      ]
    },
    {
      "cell_type": "code",
      "metadata": {
        "colab": {
          "base_uri": "https://localhost:8080/"
        },
        "id": "0Cwo9xk-78-w",
        "outputId": "6771bb5d-bf02-41a9-ae29-3e44869297b0"
      },
      "source": [
        "with open('data.json') as json_file:\n",
        "    data = json.load(json_file)\n",
        "\n",
        "print(jsonpickle.decode(data))"
      ],
      "execution_count": 10,
      "outputs": [
        {
          "output_type": "stream",
          "text": [
            "tempo:571428(105 bpm) title:Distortion Guitar author:Woulfan\n",
            "note:0 time:1.0 notation:('C', 0, 'quarter')\n",
            "note:7 time:1.0 notation:('G', 0, 'quarter')\n",
            "note:14 time:1.0 notation:('D', 1, 'quarter')\n",
            "note:15 time:5.0 notation:('D#', 1, 'whole + quarter')\n",
            "note:7 time:1.0 notation:('G', 0, 'quarter')\n",
            "note:12 time:1.0 notation:('C', 1, 'quarter')\n",
            "note:17 time:1.0 notation:('F', 1, 'quarter')\n",
            "note:15 time:5.0 notation:('D#', 1, 'whole + quarter')\n",
            "note:3 time:1.0 notation:('D#', 0, 'quarter')\n",
            "note:10 time:1.0 notation:('A#', 0, 'quarter')\n",
            "note:19 time:1.0 notation:('G', 1, 'quarter')\n",
            "note:17 time:3.0 notation:('F', 1, 'half + quarter')\n",
            "note:14 time:1.0 notation:('D', 1, 'quarter')\n",
            "note:12 time:1.0 notation:('C', 1, 'quarter')\n",
            "note:14 time:8.0 notation:('D', 1, 'double whole')\n",
            "note:0 time:1.0 notation:('C', 0, 'quarter')\n",
            "note:7 time:1.0 notation:('G', 0, 'quarter')\n",
            "note:14 time:1.0 notation:('D', 1, 'quarter')\n",
            "note:15 time:5.0 notation:('D#', 1, 'whole + quarter')\n",
            "note:7 time:1.0 notation:('G', 0, 'quarter')\n",
            "note:12 time:1.0 notation:('C', 1, 'quarter')\n",
            "note:17 time:1.0 notation:('F', 1, 'quarter')\n",
            "note:15 time:5.0 notation:('D#', 1, 'whole + quarter')\n",
            "note:3 time:1.0 notation:('D#', 0, 'quarter')\n",
            "note:10 time:1.0 notation:('A#', 0, 'quarter')\n",
            "note:14 time:1.0 notation:('D', 1, 'quarter')\n",
            "note:15 time:3.0 notation:('D#', 1, 'half + quarter')\n",
            "note:14 time:1.0 notation:('D', 1, 'quarter')\n",
            "note:10 time:1.0 notation:('A#', 0, 'quarter')\n",
            "note:12 time:8.0 notation:('C', 1, 'double whole')\n"
          ],
          "name": "stdout"
        }
      ]
    },
    {
      "cell_type": "code",
      "metadata": {
        "id": "MX0bRGZN9Ddx"
      },
      "source": [
        ""
      ],
      "execution_count": 10,
      "outputs": []
    }
  ]
}
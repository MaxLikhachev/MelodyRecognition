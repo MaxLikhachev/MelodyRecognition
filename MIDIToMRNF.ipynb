{
  "nbformat": 4,
  "nbformat_minor": 0,
  "metadata": {
    "colab": {
      "name": "MIDIToMRNF.ipynb",
      "provenance": [],
      "collapsed_sections": [],
      "mount_file_id": "1Hr0RO3fJ9a1VIcpCpH0ePEXbZbYfLI_Q",
      "authorship_tag": "ABX9TyNA8DeFP24lWs0jnfRTtZYR",
      "include_colab_link": true
    },
    "kernelspec": {
      "name": "python3",
      "display_name": "Python 3"
    },
    "language_info": {
      "name": "python"
    }
  },
  "cells": [
    {
      "cell_type": "markdown",
      "metadata": {
        "id": "view-in-github",
        "colab_type": "text"
      },
      "source": [
        "<a href=\"https://colab.research.google.com/github/MaxLikhachev/MelodyRecognition/blob/main/MIDIToMRNF.ipynb\" target=\"_parent\"><img src=\"https://colab.research.google.com/assets/colab-badge.svg\" alt=\"Open In Colab\"/></a>"
      ]
    },
    {
      "cell_type": "code",
      "metadata": {
        "colab": {
          "base_uri": "https://localhost:8080/"
        },
        "id": "bimh5ap92h7U",
        "outputId": "7e3c9197-1c94-4fec-fc9c-740b2e2ce09f"
      },
      "source": [
        "!pip install mido==1.2.9"
      ],
      "execution_count": 1,
      "outputs": [
        {
          "output_type": "stream",
          "text": [
            "Requirement already satisfied: mido==1.2.9 in /usr/local/lib/python3.7/dist-packages (1.2.9)\n"
          ],
          "name": "stdout"
        }
      ]
    },
    {
      "cell_type": "code",
      "metadata": {
        "id": "kH89JYwlRWkb"
      },
      "source": [
        "import mido, math"
      ],
      "execution_count": 2,
      "outputs": []
    },
    {
      "cell_type": "code",
      "metadata": {
        "colab": {
          "base_uri": "https://localhost:8080/"
        },
        "id": "299Z8IDFVWiQ",
        "outputId": "c70f5b25-f3d4-4c43-b3c8-c85749ea16e4"
      },
      "source": [
        "class Note:\n",
        "  def __init__(self, note = 0, time = 0.0):\n",
        "    self.note, self.time = note, time\n",
        "\n",
        "  def get_tone(self):\n",
        "    return self.note % 12\n",
        "\n",
        "  def get_octave(self):\n",
        "    return self.note // 12\n",
        "\n",
        "  def get_note_title(self):\n",
        "    return ('C','C#','D','D#','E','F','F#','G','G#','A','A#','B')[self.get_tone()]\n",
        "\n",
        "  def get_notation(self):\n",
        "    return self.get_note_title(), self.get_octave(), self.get_duration()\n",
        "\n",
        "  def get_duration(self):\n",
        "    duration_notation, durations, temp = [], {8:'double whole', 4:'whole', 2:'half', 1:'quarter', 0.5:'eighth', 0.25:'sixteenth'}, self.time\n",
        "    for key in durations.keys():\n",
        "      if temp // key == 1:\n",
        "        duration_notation.append(durations.get(key))\n",
        "        temp -= key\n",
        "    return ' + '.join(duration_notation)\n",
        "\n",
        "  def __str__(self):\n",
        "    return 'note:' + self.note.__str__() + ' time:' + self.time.__str__() + ' notation:' + self.get_notation().__str__()\n",
        "\n",
        "\n",
        "print(Note(note=50,time=1))"
      ],
      "execution_count": 3,
      "outputs": [
        {
          "output_type": "stream",
          "text": [
            "note:50 time:1 notation:('D', 4, 'quarter')\n"
          ],
          "name": "stdout"
        }
      ]
    },
    {
      "cell_type": "code",
      "metadata": {
        "id": "jC6d8JYPAv21"
      },
      "source": [
        "class NoteMRNF(Note):\n",
        "  def __init__(self, note = Note(), first_note = Note()):\n",
        "    self.note, self.time = self.__init_mrnf_note(note, first_note), self.__init_mrnf_time(note, first_note)\n",
        "\n",
        "  def __init_mrnf_note(self, note, first_note):\n",
        "    return note.note - first_note.note\n",
        "\n",
        "  def __init_mrnf_time(self, note, first_note):\n",
        "    return note.time / first_note.time"
      ],
      "execution_count": 4,
      "outputs": []
    },
    {
      "cell_type": "code",
      "metadata": {
        "colab": {
          "base_uri": "https://localhost:8080/"
        },
        "id": "NkA6VrNrV0Ct",
        "outputId": "5e2e77bd-21d3-4a1d-fd62-ecbd70dd1db9"
      },
      "source": [
        "class Melody:\n",
        "  def __init__(self, tempo = 0, title = '', author = '', notes = []):\n",
        "    self.tempo, self.title, self.author, self.notes, = tempo, title, author, notes,\n",
        "\n",
        "  def __str__(self):\n",
        "    notes_str = '\\n'.join(note.__str__() for note in self.notes)\n",
        "    return 'tempo:' + self.tempo.__str__() + '(' + str(int(mido.tempo2bpm(self.tempo))) + ' bpm) title:' + self.title + ' author:' +  self.author + '\\n' + notes_str\n",
        "\n",
        "\n",
        "print(Melody(500000, 'Title', 'Author', []))"
      ],
      "execution_count": 5,
      "outputs": [
        {
          "output_type": "stream",
          "text": [
            "tempo:500000(120 bpm) title:Title author:Author\n",
            "\n"
          ],
          "name": "stdout"
        }
      ]
    },
    {
      "cell_type": "code",
      "metadata": {
        "id": "31aX4CkoFifO"
      },
      "source": [
        "class MidiFile:\n",
        "  def __init__(self, filename = ''):\n",
        "    self.filename, self.original_melody, self.mrnf_melody = filename, Melody(), Melody()\n",
        "    self.original_melody = self.__mid2melody()\n",
        "    self.mrnf_melody = self.__melody2mnrf()\n",
        "  \n",
        "  def get_mid(self, filename):\n",
        "    mid, msgs = mido.MidiFile(filename, clip=True), []\n",
        "    for track in mid.tracks:\n",
        "      for msg in track:\n",
        "        msgs.append(msg)\n",
        "    return msgs\n",
        "\n",
        "  def __mid2melody(self):\n",
        "    mid, melody = mido.MidiFile(self.filename, clip=True), Melody()\n",
        "    for track in mid.tracks:\n",
        "      for msg in track:\n",
        "        if msg.type == 'set_tempo':\n",
        "          melody.tempo = msg.tempo\n",
        "        elif msg.type == 'track_name':\n",
        "          if melody.title == '':            \n",
        "            melody.title = msg.name\n",
        "        elif msg.type == 'copyright':\n",
        "          melody.author = msg.text\n",
        "        elif msg.type == 'note_off':\n",
        "          note, time = msg.note, msg.time\n",
        "          if not time == 0:\n",
        "            melody.notes.append(Note(note=note, time=time / mid.ticks_per_beat))\n",
        "    return melody\n",
        "\n",
        "  def __melody2mnrf(self):\n",
        "    return Melody(tempo = self.original_melody.tempo, title = self.original_melody.title, author = self.original_melody.author, notes = (NoteMRNF(note, self.original_melody.notes[0]) for note in self.original_melody.notes)) \n",
        "  \n",
        "\n",
        "mid = MidiFile(filename='/content/sample.mid')\n",
        "\n"
      ],
      "execution_count": 6,
      "outputs": []
    },
    {
      "cell_type": "code",
      "metadata": {
        "colab": {
          "base_uri": "https://localhost:8080/"
        },
        "id": "Fl1OqlmdNfO3",
        "outputId": "6e2f8b77-0e01-4077-b806-0e9a97a403b6"
      },
      "source": [
        "print('ORIGINAL_MELODY:') \n",
        "print(mid.original_melody) "
      ],
      "execution_count": 7,
      "outputs": [
        {
          "output_type": "stream",
          "text": [
            "ORIGINAL_MELODY:\n",
            "tempo:571428(105 bpm) title:Distortion Guitar author:Woulfan\n",
            "note:40 time:0.5 notation:('E', 3, 'eighth')\n",
            "note:47 time:0.5 notation:('B', 3, 'eighth')\n",
            "note:54 time:0.5 notation:('F#', 4, 'eighth')\n",
            "note:55 time:2.5 notation:('G', 4, 'half + eighth')\n",
            "note:47 time:0.5 notation:('B', 3, 'eighth')\n",
            "note:52 time:0.5 notation:('E', 4, 'eighth')\n",
            "note:57 time:0.5 notation:('A', 4, 'eighth')\n",
            "note:55 time:2.5 notation:('G', 4, 'half + eighth')\n",
            "note:43 time:0.5 notation:('G', 3, 'eighth')\n",
            "note:50 time:0.5 notation:('D', 4, 'eighth')\n",
            "note:59 time:0.5 notation:('B', 4, 'eighth')\n",
            "note:57 time:1.5 notation:('A', 4, 'quarter + eighth')\n",
            "note:54 time:0.5 notation:('F#', 4, 'eighth')\n",
            "note:52 time:0.5 notation:('E', 4, 'eighth')\n",
            "note:54 time:4.0 notation:('F#', 4, 'whole')\n",
            "note:40 time:0.5 notation:('E', 3, 'eighth')\n",
            "note:47 time:0.5 notation:('B', 3, 'eighth')\n",
            "note:54 time:0.5 notation:('F#', 4, 'eighth')\n",
            "note:55 time:2.5 notation:('G', 4, 'half + eighth')\n",
            "note:47 time:0.5 notation:('B', 3, 'eighth')\n",
            "note:52 time:0.5 notation:('E', 4, 'eighth')\n",
            "note:57 time:0.5 notation:('A', 4, 'eighth')\n",
            "note:55 time:2.5 notation:('G', 4, 'half + eighth')\n",
            "note:43 time:0.5 notation:('G', 3, 'eighth')\n",
            "note:50 time:0.5 notation:('D', 4, 'eighth')\n",
            "note:54 time:0.5 notation:('F#', 4, 'eighth')\n",
            "note:55 time:1.5 notation:('G', 4, 'quarter + eighth')\n",
            "note:54 time:0.5 notation:('F#', 4, 'eighth')\n",
            "note:50 time:0.5 notation:('D', 4, 'eighth')\n",
            "note:52 time:4.0 notation:('E', 4, 'whole')\n"
          ],
          "name": "stdout"
        }
      ]
    },
    {
      "cell_type": "code",
      "metadata": {
        "colab": {
          "base_uri": "https://localhost:8080/"
        },
        "id": "1GNBWNLuNf-Q",
        "outputId": "a2c4330f-4ef8-4b7b-8d22-0a75d3230f8f"
      },
      "source": [
        "print('MNRF_MELODY:') \n",
        "print(mid.mrnf_melody) "
      ],
      "execution_count": 8,
      "outputs": [
        {
          "output_type": "stream",
          "text": [
            "MNRF_MELODY:\n",
            "tempo:571428(105 bpm) title:Distortion Guitar author:Woulfan\n",
            "note:0 time:1.0 notation:('C', 0, 'quarter')\n",
            "note:7 time:1.0 notation:('G', 0, 'quarter')\n",
            "note:14 time:1.0 notation:('D', 1, 'quarter')\n",
            "note:15 time:5.0 notation:('D#', 1, 'whole + quarter')\n",
            "note:7 time:1.0 notation:('G', 0, 'quarter')\n",
            "note:12 time:1.0 notation:('C', 1, 'quarter')\n",
            "note:17 time:1.0 notation:('F', 1, 'quarter')\n",
            "note:15 time:5.0 notation:('D#', 1, 'whole + quarter')\n",
            "note:3 time:1.0 notation:('D#', 0, 'quarter')\n",
            "note:10 time:1.0 notation:('A#', 0, 'quarter')\n",
            "note:19 time:1.0 notation:('G', 1, 'quarter')\n",
            "note:17 time:3.0 notation:('F', 1, 'half + quarter')\n",
            "note:14 time:1.0 notation:('D', 1, 'quarter')\n",
            "note:12 time:1.0 notation:('C', 1, 'quarter')\n",
            "note:14 time:8.0 notation:('D', 1, 'double whole')\n",
            "note:0 time:1.0 notation:('C', 0, 'quarter')\n",
            "note:7 time:1.0 notation:('G', 0, 'quarter')\n",
            "note:14 time:1.0 notation:('D', 1, 'quarter')\n",
            "note:15 time:5.0 notation:('D#', 1, 'whole + quarter')\n",
            "note:7 time:1.0 notation:('G', 0, 'quarter')\n",
            "note:12 time:1.0 notation:('C', 1, 'quarter')\n",
            "note:17 time:1.0 notation:('F', 1, 'quarter')\n",
            "note:15 time:5.0 notation:('D#', 1, 'whole + quarter')\n",
            "note:3 time:1.0 notation:('D#', 0, 'quarter')\n",
            "note:10 time:1.0 notation:('A#', 0, 'quarter')\n",
            "note:14 time:1.0 notation:('D', 1, 'quarter')\n",
            "note:15 time:3.0 notation:('D#', 1, 'half + quarter')\n",
            "note:14 time:1.0 notation:('D', 1, 'quarter')\n",
            "note:10 time:1.0 notation:('A#', 0, 'quarter')\n",
            "note:12 time:8.0 notation:('C', 1, 'double whole')\n"
          ],
          "name": "stdout"
        }
      ]
    }
  ]
}